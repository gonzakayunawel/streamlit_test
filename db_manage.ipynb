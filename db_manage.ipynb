{
 "cells": [
  {
   "cell_type": "code",
   "execution_count": 8,
   "metadata": {},
   "outputs": [],
   "source": [
    "import sqlite3\n",
    "\n",
    "conn = sqlite3.connect(\"form_app.db\")\n",
    "\n",
    "def create_users_register_table():\n",
    "    conn = sqlite3.connect(\"form_app.db\")\n",
    "    cursor = conn.cursor()\n",
    "    cursor.execute(\n",
    "        \"\"\"\n",
    "        CREATE TABLE IF NOT EXISTS users_register (\n",
    "            id INTEGER PRIMARY KEY AUTOINCREMENT,\n",
    "            name TEXT,\n",
    "            email TEXT,\n",
    "            run TEXT,\n",
    "            curso TEXT,\n",
    "            electivo_1 TEXT,\n",
    "            electivo_2 TEXT,\n",
    "            electivo_3 TEXT,\n",
    "            electivo_fg TEXT,\n",
    "            created_at DATETIME DEFAULT CURRENT_TIMESTAMP\n",
    "        )\n",
    "        \"\"\"\n",
    "    )\n",
    "    conn.commit()\n",
    "    conn.close()\n",
    "\n",
    "def create_email_table():\n",
    "    conn = sqlite3.connect(\"form_app.db\")\n",
    "    cursor = conn.cursor()\n",
    "    cursor.execute(\n",
    "        \"\"\"\n",
    "        CREATE TABLE IF NOT EXISTS emails (\n",
    "            id INTEGER PRIMARY KEY AUTOINCREMENT,\n",
    "            email TEXT,\n",
    "            created_at DATETIME DEFAULT CURRENT_TIMESTAMP\n",
    "        )\n",
    "        \"\"\"\n",
    "    )\n",
    "    conn.commit()\n",
    "    conn.close()\n",
    "    \n",
    "def create_electives_table_control():\n",
    "    conn = sqlite3.connect(\"form_app.db\")\n",
    "    cursor = conn.cursor()\n",
    "    cursor.execute(\n",
    "        \"\"\"\n",
    "        CREATE TABLE IF NOT EXISTS electives_control (\n",
    "            id INTEGER PRIMARY KEY AUTOINCREMENT,\n",
    "            electivos_disponibles TEXT,\n",
    "            cantidad_de_inscritos INTEGER,\n",
    "            cupo_disponible INTEGER,\n",
    "            cupo_asignado INTEGER,\n",
    "            electivos_asignados TEXT\n",
    "        )\n",
    "        \"\"\"\n",
    "    )\n",
    "    conn.commit()\n",
    "    conn.close()"
   ]
  },
  {
   "cell_type": "code",
   "execution_count": 2,
   "metadata": {},
   "outputs": [],
   "source": [
    "create_users_register_table()"
   ]
  },
  {
   "cell_type": "code",
   "execution_count": 5,
   "metadata": {},
   "outputs": [],
   "source": [
    "create_email_table()"
   ]
  },
  {
   "cell_type": "code",
   "execution_count": 9,
   "metadata": {},
   "outputs": [],
   "source": [
    "create_electives_table_control()"
   ]
  },
  {
   "cell_type": "code",
   "execution_count": 21,
   "metadata": {},
   "outputs": [
    {
     "data": {
      "text/html": [
       "<div>\n",
       "<style scoped>\n",
       "    .dataframe tbody tr th:only-of-type {\n",
       "        vertical-align: middle;\n",
       "    }\n",
       "\n",
       "    .dataframe tbody tr th {\n",
       "        vertical-align: top;\n",
       "    }\n",
       "\n",
       "    .dataframe thead th {\n",
       "        text-align: right;\n",
       "    }\n",
       "</style>\n",
       "<table border=\"1\" class=\"dataframe\">\n",
       "  <thead>\n",
       "    <tr style=\"text-align: right;\">\n",
       "      <th></th>\n",
       "      <th>id</th>\n",
       "      <th>name</th>\n",
       "      <th>email</th>\n",
       "      <th>run</th>\n",
       "      <th>curso</th>\n",
       "      <th>electivo_1</th>\n",
       "      <th>electivo_2</th>\n",
       "      <th>electivo_3</th>\n",
       "      <th>electivo_fg</th>\n",
       "      <th>created_at</th>\n",
       "    </tr>\n",
       "  </thead>\n",
       "  <tbody>\n",
       "    <tr>\n",
       "      <th>0</th>\n",
       "      <td>1</td>\n",
       "      <td>Nombre Completo</td>\n",
       "      <td>tucorreo@gmail.com</td>\n",
       "      <td>12345678-k</td>\n",
       "      <td>III GREEN</td>\n",
       "      <td>Área A: Comprensión Histórica del Presente</td>\n",
       "      <td>Área A: Taller de literatura</td>\n",
       "      <td>Área A: Lectura y escritura especializada</td>\n",
       "      <td>Historia, Geografía y Cs. Sociales</td>\n",
       "      <td>2024-05-27 01:19:02</td>\n",
       "    </tr>\n",
       "  </tbody>\n",
       "</table>\n",
       "</div>"
      ],
      "text/plain": [
       "   id             name               email         run      curso  \\\n",
       "0   1  Nombre Completo  tucorreo@gmail.com  12345678-k  III GREEN   \n",
       "\n",
       "                                   electivo_1                    electivo_2  \\\n",
       "0  Área A: Comprensión Histórica del Presente  Área A: Taller de literatura   \n",
       "\n",
       "                                  electivo_3  \\\n",
       "0  Área A: Lectura y escritura especializada   \n",
       "\n",
       "                          electivo_fg           created_at  \n",
       "0  Historia, Geografía y Cs. Sociales  2024-05-27 01:19:02  "
      ]
     },
     "execution_count": 21,
     "metadata": {},
     "output_type": "execute_result"
    }
   ],
   "source": [
    "import pandas as pd\n",
    "\n",
    "table_name = \"users_register\"\n",
    "\n",
    "conn = sqlite3.connect('form_app.db')\n",
    "cursor = conn.cursor()\n",
    "\n",
    "cursor.execute(f\"PRAGMA table_info({table_name});\")\n",
    "att_table = [info[1] for info in cursor.fetchall()]\n",
    "cursor.execute(f\"SELECT * FROM {table_name};\")\n",
    "table_content = cursor.fetchall()\n",
    "conn.close()\n",
    "\n",
    "df_table = pd.DataFrame(table_content, columns=att_table)\n",
    "df_table.head(10)"
   ]
  },
  {
   "cell_type": "code",
   "execution_count": 17,
   "metadata": {},
   "outputs": [
    {
     "data": {
      "text/html": [
       "<div>\n",
       "<style scoped>\n",
       "    .dataframe tbody tr th:only-of-type {\n",
       "        vertical-align: middle;\n",
       "    }\n",
       "\n",
       "    .dataframe tbody tr th {\n",
       "        vertical-align: top;\n",
       "    }\n",
       "\n",
       "    .dataframe thead th {\n",
       "        text-align: right;\n",
       "    }\n",
       "</style>\n",
       "<table border=\"1\" class=\"dataframe\">\n",
       "  <thead>\n",
       "    <tr style=\"text-align: right;\">\n",
       "      <th></th>\n",
       "      <th>id</th>\n",
       "      <th>email</th>\n",
       "      <th>created_at</th>\n",
       "    </tr>\n",
       "  </thead>\n",
       "  <tbody>\n",
       "    <tr>\n",
       "      <th>0</th>\n",
       "      <td>1</td>\n",
       "      <td>micorreo@gmail.com</td>\n",
       "      <td>2024-05-27 00:59:44</td>\n",
       "    </tr>\n",
       "    <tr>\n",
       "      <th>1</th>\n",
       "      <td>2</td>\n",
       "      <td>tucorreo@gmail.com</td>\n",
       "      <td>2024-05-27 00:59:44</td>\n",
       "    </tr>\n",
       "  </tbody>\n",
       "</table>\n",
       "</div>"
      ],
      "text/plain": [
       "   id               email           created_at\n",
       "0   1  micorreo@gmail.com  2024-05-27 00:59:44\n",
       "1   2  tucorreo@gmail.com  2024-05-27 00:59:44"
      ]
     },
     "execution_count": 17,
     "metadata": {},
     "output_type": "execute_result"
    }
   ],
   "source": [
    "table_name = \"emails\"\n",
    "\n",
    "conn = sqlite3.connect('form_app.db')\n",
    "cursor = conn.cursor()\n",
    "\n",
    "cursor.execute(f\"PRAGMA table_info({table_name});\")\n",
    "att_table = [info[1] for info in cursor.fetchall()]\n",
    "cursor.execute(f\"SELECT * FROM {table_name};\")\n",
    "table_content = cursor.fetchall()\n",
    "conn.close()\n",
    "\n",
    "df_table = pd.DataFrame(table_content, columns=att_table)\n",
    "df_table.head(10)"
   ]
  },
  {
   "cell_type": "code",
   "execution_count": 12,
   "metadata": {},
   "outputs": [
    {
     "data": {
      "text/html": [
       "<div>\n",
       "<style scoped>\n",
       "    .dataframe tbody tr th:only-of-type {\n",
       "        vertical-align: middle;\n",
       "    }\n",
       "\n",
       "    .dataframe tbody tr th {\n",
       "        vertical-align: top;\n",
       "    }\n",
       "\n",
       "    .dataframe thead th {\n",
       "        text-align: right;\n",
       "    }\n",
       "</style>\n",
       "<table border=\"1\" class=\"dataframe\">\n",
       "  <thead>\n",
       "    <tr style=\"text-align: right;\">\n",
       "      <th></th>\n",
       "      <th>id</th>\n",
       "      <th>electivos_disponibles</th>\n",
       "      <th>cantidad_de_inscritos</th>\n",
       "      <th>cupo_disponible</th>\n",
       "      <th>cupo_asignado</th>\n",
       "      <th>electivos_asignados</th>\n",
       "    </tr>\n",
       "  </thead>\n",
       "  <tbody>\n",
       "  </tbody>\n",
       "</table>\n",
       "</div>"
      ],
      "text/plain": [
       "Empty DataFrame\n",
       "Columns: [id, electivos_disponibles, cantidad_de_inscritos, cupo_disponible, cupo_asignado, electivos_asignados]\n",
       "Index: []"
      ]
     },
     "execution_count": 12,
     "metadata": {},
     "output_type": "execute_result"
    }
   ],
   "source": [
    "table_name = \"electives_control\"\n",
    "\n",
    "conn = sqlite3.connect('form_app.db')\n",
    "cursor = conn.cursor()\n",
    "\n",
    "cursor.execute(f\"PRAGMA table_info({table_name});\")\n",
    "att_table = [info[1] for info in cursor.fetchall()]\n",
    "cursor.execute(f\"SELECT * FROM {table_name};\")\n",
    "table_content = cursor.fetchall()\n",
    "conn.close()\n",
    "\n",
    "df_table = pd.DataFrame(table_content, columns=att_table)\n",
    "df_table.head(10)"
   ]
  },
  {
   "cell_type": "code",
   "execution_count": 15,
   "metadata": {},
   "outputs": [],
   "source": [
    "def insert_email(email):\n",
    "    conn = sqlite3.connect('form_app.db')\n",
    "    cursor = conn.cursor()\n",
    "    cursor.execute(\n",
    "        \"\"\"\n",
    "        INSERT INTO emails (email)\n",
    "        VALUES (?)\n",
    "        \"\"\",\n",
    "        (email,),\n",
    "    )\n",
    "    conn.commit()\n",
    "    conn.close()"
   ]
  },
  {
   "cell_type": "code",
   "execution_count": 16,
   "metadata": {},
   "outputs": [],
   "source": [
    "insert_email(\"micorreo@gmail.com\")\n",
    "insert_email(\"tucorreo@gmail.com\")"
   ]
  },
  {
   "cell_type": "code",
   "execution_count": 18,
   "metadata": {},
   "outputs": [],
   "source": [
    "def verify_email(email):\n",
    "    conn = sqlite3.connect(\"form_app.db\")\n",
    "    cursor = conn.cursor()\n",
    "    cursor.execute(\"SELECT * FROM emails WHERE email = ?\", (email,))\n",
    "    result = cursor.fetchone()\n",
    "    if result:\n",
    "        conn.close()\n",
    "        return True\n",
    "        \n",
    "    else:\n",
    "        conn.close()\n",
    "        return False"
   ]
  },
  {
   "cell_type": "code",
   "execution_count": 19,
   "metadata": {},
   "outputs": [
    {
     "data": {
      "text/plain": [
       "True"
      ]
     },
     "execution_count": 19,
     "metadata": {},
     "output_type": "execute_result"
    }
   ],
   "source": [
    "verify_email(\"micorreo@gmail.com\")"
   ]
  },
  {
   "cell_type": "code",
   "execution_count": 20,
   "metadata": {},
   "outputs": [],
   "source": [
    "def insert_user(\n",
    "    name, run, email, curso, electivo_1, electivo_2, electivo_3, electivo_fg\n",
    "):\n",
    "    conn = sqlite3.connect(\"form_app.db\")\n",
    "    cursor = conn.cursor()\n",
    "    cursor.execute(\n",
    "        \"INSERT INTO users_register (name, run, email, curso, electivo_1, electivo_2, electivo_3, electivo_fg) VALUES (?, ?, ?, ?, ?, ?, ?, ?)\",\n",
    "        (name, run, email, curso, electivo_1, electivo_2, electivo_3, electivo_fg),\n",
    "    )\n",
    "    conn.commit()\n",
    "    conn.close()\n",
    "    return True"
   ]
  },
  {
   "cell_type": "code",
   "execution_count": null,
   "metadata": {},
   "outputs": [],
   "source": [
    "def verify_email(email):\n",
    "    conn = sqlite3.connect(\"form_app.db\")\n",
    "    cursor = conn.cursor()\n",
    "    cursor.execute(\"SELECT * FROM emails WHERE email = ?\", (email,))\n",
    "    result = cursor.fetchone()\n",
    "    if result:\n",
    "        conn.close()\n",
    "        return True\n",
    "        \n",
    "    else:\n",
    "        conn.close()\n",
    "        return False"
   ]
  },
  {
   "cell_type": "code",
   "execution_count": null,
   "metadata": {},
   "outputs": [],
   "source": [
    "insert_user(\n",
    "    \"Francisca Alejandra Pérez Ortiz\",\n",
    "    \"12345678-k\",\n",
    "    \"nombre.apellido@estudiantes.colegiotgs.cl\",\n",
    "    \"III GREEN\",\n",
    "    \"Área A: Comprensión Histórica del Presente\",\n",
    "    \"Área B: Límites, Derivadas e Integrales\",\n",
    "    \"Área C: Interpretación Musical\",\n",
    "    \"Artes Visuales\"\n",
    ")"
   ]
  }
 ],
 "metadata": {
  "kernelspec": {
   "display_name": "venv",
   "language": "python",
   "name": "python3"
  },
  "language_info": {
   "codemirror_mode": {
    "name": "ipython",
    "version": 3
   },
   "file_extension": ".py",
   "mimetype": "text/x-python",
   "name": "python",
   "nbconvert_exporter": "python",
   "pygments_lexer": "ipython3",
   "version": "3.10.12"
  }
 },
 "nbformat": 4,
 "nbformat_minor": 2
}
